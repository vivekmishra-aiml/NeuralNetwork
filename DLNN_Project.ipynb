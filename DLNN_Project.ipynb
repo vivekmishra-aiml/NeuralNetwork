{
 "cells": [
  {
   "cell_type": "code",
   "execution_count": 42,
   "metadata": {
    "colab": {
     "base_uri": "https://localhost:8080/",
     "height": 35
    },
    "id": "MrxvB_F5arKw",
    "outputId": "e629a503-97fe-4010-90aa-e2cdfb49940f"
   },
   "outputs": [
    {
     "data": {
      "application/vnd.google.colaboratory.intrinsic+json": {
       "type": "string"
      },
      "text/plain": [
       "'2.3.0'"
      ]
     },
     "execution_count": 42,
     "metadata": {
      "tags": []
     },
     "output_type": "execute_result"
    }
   ],
   "source": [
    "%tensorflow_version 2.x\n",
    "import tensorflow\n",
    "tensorflow.__version__"
   ]
  },
  {
   "cell_type": "code",
   "execution_count": 43,
   "metadata": {
    "id": "f9SQbE53b_7m"
   },
   "outputs": [],
   "source": [
    "# Initialize the random number generator\n",
    "import random\n",
    "random.seed(0)\n",
    "\n",
    "# Ignore the warnings\n",
    "import warnings\n",
    "warnings.filterwarnings(\"ignore\")"
   ]
  },
  {
   "cell_type": "markdown",
   "metadata": {
    "id": "uOANpav1cXoC"
   },
   "source": [
    "# Load Libraries"
   ]
  },
  {
   "cell_type": "code",
   "execution_count": 44,
   "metadata": {
    "id": "6DaVmqzEcZtc"
   },
   "outputs": [],
   "source": [
    "import matplotlib.pyplot as plt\n",
    "\n",
    "from sklearn.model_selection import train_test_split\n",
    "from tensorflow.keras.models import Sequential\n",
    "from tensorflow.keras.utils import to_categorical"
   ]
  },
  {
   "cell_type": "code",
   "execution_count": 45,
   "metadata": {
    "colab": {
     "base_uri": "https://localhost:8080/",
     "height": 34
    },
    "id": "BLfWyi4onb6W",
    "outputId": "63615601-2256-46c4-c21b-50c9907e56c7"
   },
   "outputs": [
    {
     "name": "stdout",
     "output_type": "stream",
     "text": [
      "Drive already mounted at /content/drive/; to attempt to forcibly remount, call drive.mount(\"/content/drive/\", force_remount=True).\n"
     ]
    }
   ],
   "source": [
    "# Code to load the dataset\n",
    "\n",
    "from google.colab import drive\n",
    "drive.mount('/content/drive/')"
   ]
  },
  {
   "cell_type": "markdown",
   "metadata": {
    "id": "mfdv5hd64qdj"
   },
   "source": [
    "### Read data from h5py file and understand train and test splits"
   ]
  },
  {
   "cell_type": "code",
   "execution_count": 46,
   "metadata": {
    "colab": {
     "base_uri": "https://localhost:8080/",
     "height": 34
    },
    "id": "UiVrHakjs3T8",
    "outputId": "77fe1f54-c26c-4c9d-b6f4-955fa8e8953c"
   },
   "outputs": [
    {
     "data": {
      "text/plain": [
       "<KeysViewHDF5 ['X_test', 'X_train', 'X_val', 'y_test', 'y_train', 'y_val']>"
      ]
     },
     "execution_count": 46,
     "metadata": {
      "tags": []
     },
     "output_type": "execute_result"
    }
   ],
   "source": [
    "import h5py\n",
    "\n",
    "#Open the file as readonly\n",
    "\n",
    "h5f = h5py.File('/content/drive/My Drive/SVHN_single_grey1.h5','r')\n",
    "\n",
    "h5f.keys()\n"
   ]
  },
  {
   "cell_type": "code",
   "execution_count": 47,
   "metadata": {
    "colab": {
     "base_uri": "https://localhost:8080/",
     "height": 67
    },
    "id": "9dIGOuA8tPAs",
    "outputId": "648a2bbb-917e-404e-ff1b-6769827b7717"
   },
   "outputs": [
    {
     "name": "stdout",
     "output_type": "stream",
     "text": [
      "Train Data set (42000, 32, 32) (42000,)\n",
      "Test Data set (18000, 32, 32) (18000,)\n",
      "SVHN Dataset has images of length 32 and width 32\n"
     ]
    }
   ],
   "source": [
    "X_train = h5f['X_train'][:]\n",
    "y_train = h5f['y_train'][:]\n",
    "X_test = h5f['X_test'][:]\n",
    "y_test = h5f['y_test'][:] \n",
    "\n",
    "# close h5f file\n",
    "\n",
    "h5f.close()\n",
    "\n",
    "print('Train Data set',X_train.shape,y_train.shape)\n",
    "print('Test Data set',X_test.shape,y_test.shape)\n",
    "print('SVHN Dataset has images of length 32 and width 32')\n",
    "\n"
   ]
  },
  {
   "cell_type": "code",
   "execution_count": 48,
   "metadata": {
    "colab": {
     "base_uri": "https://localhost:8080/",
     "height": 300
    },
    "id": "BVOD89haFgLf",
    "outputId": "a6e54ff9-22f8-4f58-b214-ad9f4bf3afe3"
   },
   "outputs": [
    {
     "name": "stdout",
     "output_type": "stream",
     "text": [
      "Label: 7\n"
     ]
    },
    {
     "data": {
      "text/plain": [
       "<matplotlib.image.AxesImage at 0x7f4f9991c9e8>"
      ]
     },
     "execution_count": 48,
     "metadata": {
      "tags": []
     },
     "output_type": "execute_result"
    },
    {
     "data": {
      "image/png": "[encoded data removed]",
      "text/plain": [
       "<Figure size 432x288 with 1 Axes>"
      ]
     },
     "metadata": {
      "needs_background": "light",
      "tags": []
     },
     "output_type": "display_data"
    }
   ],
   "source": [
    "import matplotlib.pyplot as plt\n",
    "%matplotlib inline\n",
    "print(\"Label: {}\".format(y_train[5000]))\n",
    "plt.imshow(X_train[5000], cmap='gray')"
   ]
  },
  {
   "cell_type": "markdown",
   "metadata": {
    "id": "2uOUyS1j9xMp"
   },
   "source": [
    "## Reshape and normalize the train and test features"
   ]
  },
  {
   "cell_type": "code",
   "execution_count": 49,
   "metadata": {
    "colab": {
     "base_uri": "https://localhost:8080/",
     "height": 67
    },
    "id": "HiIPtR0J7nWt",
    "outputId": "613b9161-f21f-4333-dd5f-e105dfc54547"
   },
   "outputs": [
    {
     "name": "stdout",
     "output_type": "stream",
     "text": [
      "Reshaped Train/Test data\n",
      "Train Data set (42000, 1024) (42000,)\n",
      "Test Data set (18000, 1024) (18000,)\n"
     ]
    }
   ],
   "source": [
    "# reshaping X data: (n, 32, 32) => (n, 1024)\n",
    "X_train = X_train.reshape((X_train.shape[0], -1))\n",
    "X_test = X_test.reshape((X_test.shape[0], -1))\n",
    "\n",
    "print('Reshaped Train/Test data')\n",
    "print('Train Data set',X_train.shape,y_train.shape)\n",
    "print('Test Data set',X_test.shape,y_test.shape)"
   ]
  },
  {
   "cell_type": "markdown",
   "metadata": {
    "id": "_N-Y6rOFB-UB"
   },
   "source": [
    "\n",
    "\n",
    "### Normalize features\n",
    "- Normalize features from 0-255 to 0-1"
   ]
  },
  {
   "cell_type": "code",
   "execution_count": 50,
   "metadata": {
    "colab": {
     "base_uri": "https://localhost:8080/",
     "height": 50
    },
    "id": "q5kiC8pnCAxr",
    "outputId": "fb0e0648-1853-4621-ed4b-6e5d5e42968e"
   },
   "outputs": [
    {
     "name": "stdout",
     "output_type": "stream",
     "text": [
      "0.9999\n",
      "0.0\n"
     ]
    }
   ],
   "source": [
    "X_train = X_train.astype('float32')\n",
    "X_test = X_test.astype('float32')\n",
    "\n",
    "X_train /= 255\n",
    "X_test /= 255\n",
    "\n",
    "print(X_train.max())\n",
    "print(X_train.min())\n"
   ]
  },
  {
   "cell_type": "markdown",
   "metadata": {
    "id": "pIRh0NDc-PzS"
   },
   "source": [
    "## One hot encoding labels for train and test data\n",
    "- convert class vectors (integers) to binary class matrix\n",
    "- convert y_train and y_test\n",
    "- number of classes: 10\n",
    "- we are doing this to use categorical_crossentropy as loss"
   ]
  },
  {
   "cell_type": "code",
   "execution_count": 51,
   "metadata": {
    "colab": {
     "base_uri": "https://localhost:8080/",
     "height": 67
    },
    "id": "hMMYE9W9-_SL",
    "outputId": "e1a3f790-db53-4942-9fa1-66f6f066ac5d"
   },
   "outputs": [
    {
     "name": "stdout",
     "output_type": "stream",
     "text": [
      "Value before encoding: 2\n",
      "Shape of y_train: (42000, 10)\n",
      "One hot encoded value of y_train: [0. 0. 1. 0. 0. 0. 0. 0. 0. 0.]\n"
     ]
    }
   ],
   "source": [
    "# converting y data into categorical (one-hot encoding)\n",
    "\n",
    "print(\"Value before encoding:\", y_train[0])\n",
    "\n",
    "y_train = to_categorical(y_train, num_classes=10)\n",
    "y_test = to_categorical(y_test, num_classes=10)\n",
    "\n",
    "print(\"Shape of y_train:\", y_train.shape)\n",
    "print(\"One hot encoded value of y_train:\", y_train[0])"
   ]
  },
  {
   "cell_type": "code",
   "execution_count": 52,
   "metadata": {
    "colab": {
     "base_uri": "https://localhost:8080/",
     "height": 246
    },
    "id": "rcAzfniWE2Ay",
    "outputId": "73817443-510a-439e-ac8b-8d6fe413df6b"
   },
   "outputs": [
    {
     "name": "stdout",
     "output_type": "stream",
     "text": [
      "label for each of the below image: 2\n",
      "label for each of the below image: 6\n",
      "label for each of the below image: 7\n",
      "label for each of the below image: 4\n",
      "label for each of the below image: 4\n",
      "label for each of the below image: 0\n",
      "label for each of the below image: 3\n",
      "label for each of the below image: 0\n",
      "label for each of the below image: 7\n",
      "label for each of the below image: 3\n"
     ]
    },
    {
     "data": {
      "image/png": "[encoded data removed]",
      "text/plain": [
       "<Figure size 720x72 with 10 Axes>"
      ]
     },
     "metadata": {
      "needs_background": "light",
      "tags": []
     },
     "output_type": "display_data"
    }
   ],
   "source": [
    "import numpy as np\n",
    "\n",
    "# visualizing the first 10 images in the dataset and their labels\n",
    "%matplotlib inline\n",
    "import matplotlib.pyplot as plt\n",
    "plt.figure(figsize=(10, 1))\n",
    "for i in range(10):\n",
    "    plt.subplot(1, 10, i+1)\n",
    "    plt.imshow(X_train[i].reshape(32, 32), cmap=\"gray\")\n",
    "    plt.axis('off')\n",
    "    print('label for each of the below image: %s' % (np.argmax(y_train[0:10][i])))\n",
    "plt.show()\n"
   ]
  },
  {
   "cell_type": "markdown",
   "metadata": {
    "id": "m4NjrEW2G4pz"
   },
   "source": [
    "## Define the model architecuture using Tensorflow with flatten layer followed by dense layers with activation as Relu and softmax\n"
   ]
  },
  {
   "cell_type": "code",
   "execution_count": 53,
   "metadata": {
    "id": "pGTDVfej2Eot"
   },
   "outputs": [],
   "source": [
    "from tensorflow.keras.models import Sequential\n",
    "from tensorflow.keras.layers import Activation, Dense\n",
    "from tensorflow.keras import optimizers\n",
    "from tensorflow.keras.layers import Flatten"
   ]
  },
  {
   "cell_type": "code",
   "execution_count": 54,
   "metadata": {
    "id": "HNcSi_aMyiAm"
   },
   "outputs": [],
   "source": [
    "model = Sequential()\n"
   ]
  },
  {
   "cell_type": "code",
   "execution_count": 55,
   "metadata": {
    "id": "oBBaN-9S1hz2"
   },
   "outputs": [],
   "source": [
    "model.add(Flatten(input_shape = (1024, )))\n",
    "model.add(Activation('relu'))    \n",
    "model.add(Dense(256))\n",
    "model.add(Activation('relu'))    \n",
    "model.add(Dense(256))\n",
    "model.add(Activation('relu'))      \n",
    "model.add(Dense(10))\n",
    "model.add(Activation('softmax'))"
   ]
  },
  {
   "cell_type": "markdown",
   "metadata": {
    "id": "EKslSTiyyWdJ"
   },
   "source": [
    "## Compile the model with loss as categorical cross entropy and adam optimizers.Use accuracy as the metric for evaluation."
   ]
  },
  {
   "cell_type": "code",
   "execution_count": 56,
   "metadata": {
    "id": "fAdPQWJ-10nL"
   },
   "outputs": [],
   "source": [
    "sgd = optimizers.Adam(lr = 0.001)\n",
    "model.compile(optimizer = sgd, loss = 'categorical_crossentropy', metrics = ['accuracy'])\n"
   ]
  },
  {
   "cell_type": "markdown",
   "metadata": {
    "id": "kcTqBbV-ybcU"
   },
   "source": [
    "## Fit and evaluate the model.Print the loss and accuracy for test data."
   ]
  },
  {
   "cell_type": "code",
   "execution_count": 57,
   "metadata": {
    "colab": {
     "base_uri": "https://localhost:8080/",
     "height": 1000
    },
    "id": "tVKPwSJw2vQX",
    "outputId": "0731c659-6b99-4942-e251-05420cf36bc9"
   },
   "outputs": [
    {
     "name": "stdout",
     "output_type": "stream",
     "text": [
      "Epoch 1/200\n",
      "42/42 [==============================] - 0s 8ms/step - loss: 2.2983 - accuracy: 0.1358 - val_loss: 2.2479 - val_accuracy: 0.2178\n",
      "Epoch 2/200\n",
      "42/42 [==============================] - 0s 6ms/step - loss: 2.1328 - accuracy: 0.2846 - val_loss: 1.9612 - val_accuracy: 0.3869\n",
      "Epoch 3/200\n",
      "42/42 [==============================] - 0s 6ms/step - loss: 1.7838 - accuracy: 0.4353 - val_loss: 1.6001 - val_accuracy: 0.5121\n",
      "Epoch 4/200\n",
      "42/42 [==============================] - 0s 6ms/step - loss: 1.5122 - accuracy: 0.5296 - val_loss: 1.4220 - val_accuracy: 0.5536\n",
      "Epoch 5/200\n",
      "42/42 [==============================] - 0s 6ms/step - loss: 1.3481 - accuracy: 0.5907 - val_loss: 1.3092 - val_accuracy: 0.5987\n",
      "Epoch 6/200\n",
      "42/42 [==============================] - 0s 6ms/step - loss: 1.2418 - accuracy: 0.6245 - val_loss: 1.2133 - val_accuracy: 0.6323\n",
      "Epoch 7/200\n",
      "42/42 [==============================] - 0s 6ms/step - loss: 1.1663 - accuracy: 0.6494 - val_loss: 1.1461 - val_accuracy: 0.6539\n",
      "Epoch 8/200\n",
      "42/42 [==============================] - 0s 6ms/step - loss: 1.1046 - accuracy: 0.6696 - val_loss: 1.0860 - val_accuracy: 0.6739\n",
      "Epoch 9/200\n",
      "42/42 [==============================] - 0s 6ms/step - loss: 1.0521 - accuracy: 0.6852 - val_loss: 1.0495 - val_accuracy: 0.6864\n",
      "Epoch 10/200\n",
      "42/42 [==============================] - 0s 6ms/step - loss: 1.0231 - accuracy: 0.6925 - val_loss: 1.0298 - val_accuracy: 0.6891\n",
      "Epoch 11/200\n",
      "42/42 [==============================] - 0s 6ms/step - loss: 0.9987 - accuracy: 0.6982 - val_loss: 0.9878 - val_accuracy: 0.7041\n",
      "Epoch 12/200\n",
      "42/42 [==============================] - 0s 6ms/step - loss: 0.9545 - accuracy: 0.7140 - val_loss: 0.9447 - val_accuracy: 0.7181\n",
      "Epoch 13/200\n",
      "42/42 [==============================] - 0s 6ms/step - loss: 0.9236 - accuracy: 0.7231 - val_loss: 0.9355 - val_accuracy: 0.7176\n",
      "Epoch 14/200\n",
      "42/42 [==============================] - 0s 6ms/step - loss: 0.8958 - accuracy: 0.7325 - val_loss: 0.9161 - val_accuracy: 0.7261\n",
      "Epoch 15/200\n",
      "42/42 [==============================] - 0s 6ms/step - loss: 0.8737 - accuracy: 0.7371 - val_loss: 0.9124 - val_accuracy: 0.7247\n",
      "Epoch 16/200\n",
      "42/42 [==============================] - 0s 6ms/step - loss: 0.8561 - accuracy: 0.7412 - val_loss: 0.8786 - val_accuracy: 0.7377\n",
      "Epoch 17/200\n",
      "42/42 [==============================] - 0s 6ms/step - loss: 0.8348 - accuracy: 0.7503 - val_loss: 0.8527 - val_accuracy: 0.7473\n",
      "Epoch 18/200\n",
      "42/42 [==============================] - 0s 6ms/step - loss: 0.8224 - accuracy: 0.7518 - val_loss: 0.8366 - val_accuracy: 0.7506\n",
      "Epoch 19/200\n",
      "42/42 [==============================] - 0s 6ms/step - loss: 0.8042 - accuracy: 0.7571 - val_loss: 0.8310 - val_accuracy: 0.7514\n",
      "Epoch 20/200\n",
      "42/42 [==============================] - 0s 6ms/step - loss: 0.7969 - accuracy: 0.7582 - val_loss: 0.8371 - val_accuracy: 0.7516\n",
      "Epoch 21/200\n",
      "42/42 [==============================] - 0s 6ms/step - loss: 0.7691 - accuracy: 0.7669 - val_loss: 0.8060 - val_accuracy: 0.7592\n",
      "Epoch 22/200\n",
      "42/42 [==============================] - 0s 6ms/step - loss: 0.7569 - accuracy: 0.7734 - val_loss: 0.8052 - val_accuracy: 0.7622\n",
      "Epoch 23/200\n",
      "42/42 [==============================] - 0s 6ms/step - loss: 0.7412 - accuracy: 0.7770 - val_loss: 0.7925 - val_accuracy: 0.7653\n",
      "Epoch 24/200\n",
      "42/42 [==============================] - 0s 6ms/step - loss: 0.7330 - accuracy: 0.7788 - val_loss: 0.7796 - val_accuracy: 0.7696\n",
      "Epoch 25/200\n",
      "42/42 [==============================] - 0s 6ms/step - loss: 0.7337 - accuracy: 0.7800 - val_loss: 0.7841 - val_accuracy: 0.7678\n",
      "Epoch 26/200\n",
      "42/42 [==============================] - 0s 6ms/step - loss: 0.7166 - accuracy: 0.7836 - val_loss: 0.7747 - val_accuracy: 0.7704\n",
      "Epoch 27/200\n",
      "42/42 [==============================] - 0s 6ms/step - loss: 0.7056 - accuracy: 0.7878 - val_loss: 0.7807 - val_accuracy: 0.7701\n",
      "Epoch 28/200\n",
      "42/42 [==============================] - 0s 6ms/step - loss: 0.6929 - accuracy: 0.7926 - val_loss: 0.7566 - val_accuracy: 0.7785\n",
      "Epoch 29/200\n",
      "42/42 [==============================] - 0s 6ms/step - loss: 0.6896 - accuracy: 0.7923 - val_loss: 0.7628 - val_accuracy: 0.7759\n",
      "Epoch 30/200\n",
      "42/42 [==============================] - 0s 6ms/step - loss: 0.6787 - accuracy: 0.7970 - val_loss: 0.7614 - val_accuracy: 0.7758\n",
      "Epoch 31/200\n",
      "42/42 [==============================] - 0s 6ms/step - loss: 0.6677 - accuracy: 0.8006 - val_loss: 0.7379 - val_accuracy: 0.7852\n",
      "Epoch 32/200\n",
      "42/42 [==============================] - 0s 6ms/step - loss: 0.6543 - accuracy: 0.8031 - val_loss: 0.7496 - val_accuracy: 0.7815\n",
      "Epoch 33/200\n",
      "42/42 [==============================] - 0s 6ms/step - loss: 0.6488 - accuracy: 0.8061 - val_loss: 0.7187 - val_accuracy: 0.7913\n",
      "Epoch 34/200\n",
      "42/42 [==============================] - 0s 6ms/step - loss: 0.6508 - accuracy: 0.8043 - val_loss: 0.7125 - val_accuracy: 0.7931\n",
      "Epoch 35/200\n",
      "42/42 [==============================] - 0s 6ms/step - loss: 0.6406 - accuracy: 0.8079 - val_loss: 0.7198 - val_accuracy: 0.7901\n",
      "Epoch 36/200\n",
      "42/42 [==============================] - 0s 6ms/step - loss: 0.6236 - accuracy: 0.8133 - val_loss: 0.7178 - val_accuracy: 0.7911\n",
      "Epoch 37/200\n",
      "42/42 [==============================] - 0s 6ms/step - loss: 0.6287 - accuracy: 0.8128 - val_loss: 0.7079 - val_accuracy: 0.7944\n",
      "Epoch 38/200\n",
      "42/42 [==============================] - 0s 6ms/step - loss: 0.6141 - accuracy: 0.8168 - val_loss: 0.7060 - val_accuracy: 0.7982\n",
      "Epoch 39/200\n",
      "42/42 [==============================] - 0s 6ms/step - loss: 0.6100 - accuracy: 0.8171 - val_loss: 0.7098 - val_accuracy: 0.7930\n",
      "Epoch 40/200\n",
      "42/42 [==============================] - 0s 6ms/step - loss: 0.6049 - accuracy: 0.8188 - val_loss: 0.6813 - val_accuracy: 0.8044\n",
      "Epoch 41/200\n",
      "42/42 [==============================] - 0s 6ms/step - loss: 0.6010 - accuracy: 0.8196 - val_loss: 0.6841 - val_accuracy: 0.8036\n",
      "Epoch 42/200\n",
      "42/42 [==============================] - 0s 6ms/step - loss: 0.5923 - accuracy: 0.8215 - val_loss: 0.6984 - val_accuracy: 0.7996\n",
      "Epoch 43/200\n",
      "42/42 [==============================] - 0s 6ms/step - loss: 0.5807 - accuracy: 0.8254 - val_loss: 0.6737 - val_accuracy: 0.8084\n",
      "Epoch 44/200\n",
      "42/42 [==============================] - 0s 6ms/step - loss: 0.5733 - accuracy: 0.8279 - val_loss: 0.6947 - val_accuracy: 0.8011\n",
      "Epoch 45/200\n",
      "42/42 [==============================] - 0s 6ms/step - loss: 0.5825 - accuracy: 0.8244 - val_loss: 0.6943 - val_accuracy: 0.8014\n",
      "Epoch 46/200\n",
      "42/42 [==============================] - 0s 6ms/step - loss: 0.5836 - accuracy: 0.8250 - val_loss: 0.6884 - val_accuracy: 0.8027\n",
      "Epoch 47/200\n",
      "42/42 [==============================] - 0s 6ms/step - loss: 0.5612 - accuracy: 0.8316 - val_loss: 0.6709 - val_accuracy: 0.8048\n",
      "Epoch 48/200\n",
      "42/42 [==============================] - 0s 6ms/step - loss: 0.5550 - accuracy: 0.8332 - val_loss: 0.6742 - val_accuracy: 0.8020\n",
      "Epoch 49/200\n",
      "42/42 [==============================] - 0s 6ms/step - loss: 0.5658 - accuracy: 0.8310 - val_loss: 0.6623 - val_accuracy: 0.8117\n",
      "Epoch 50/200\n",
      "42/42 [==============================] - 0s 6ms/step - loss: 0.5488 - accuracy: 0.8367 - val_loss: 0.6589 - val_accuracy: 0.8127\n",
      "Epoch 51/200\n",
      "42/42 [==============================] - 0s 6ms/step - loss: 0.5570 - accuracy: 0.8345 - val_loss: 0.6559 - val_accuracy: 0.8101\n",
      "Epoch 52/200\n",
      "42/42 [==============================] - 0s 6ms/step - loss: 0.5451 - accuracy: 0.8386 - val_loss: 0.6598 - val_accuracy: 0.8119\n",
      "Epoch 53/200\n",
      "42/42 [==============================] - 0s 6ms/step - loss: 0.5282 - accuracy: 0.8422 - val_loss: 0.6470 - val_accuracy: 0.8138\n",
      "Epoch 54/200\n",
      "42/42 [==============================] - 0s 6ms/step - loss: 0.5395 - accuracy: 0.8372 - val_loss: 0.6614 - val_accuracy: 0.8121\n",
      "Epoch 55/200\n",
      "42/42 [==============================] - 0s 6ms/step - loss: 0.5264 - accuracy: 0.8412 - val_loss: 0.6561 - val_accuracy: 0.8096\n",
      "Epoch 56/200\n",
      "42/42 [==============================] - 0s 6ms/step - loss: 0.5259 - accuracy: 0.8426 - val_loss: 0.6443 - val_accuracy: 0.8143\n",
      "Epoch 57/200\n",
      "42/42 [==============================] - 0s 6ms/step - loss: 0.5290 - accuracy: 0.8419 - val_loss: 0.6480 - val_accuracy: 0.8168\n",
      "Epoch 58/200\n",
      "42/42 [==============================] - 0s 6ms/step - loss: 0.5080 - accuracy: 0.8478 - val_loss: 0.6488 - val_accuracy: 0.8159\n",
      "Epoch 59/200\n",
      "42/42 [==============================] - 0s 6ms/step - loss: 0.5073 - accuracy: 0.8472 - val_loss: 0.6350 - val_accuracy: 0.8222\n",
      "Epoch 60/200\n",
      "42/42 [==============================] - 0s 6ms/step - loss: 0.5048 - accuracy: 0.8489 - val_loss: 0.6635 - val_accuracy: 0.8116\n",
      "Epoch 61/200\n",
      "42/42 [==============================] - 0s 6ms/step - loss: 0.5174 - accuracy: 0.8448 - val_loss: 0.6584 - val_accuracy: 0.8119\n",
      "Epoch 62/200\n",
      "42/42 [==============================] - 0s 6ms/step - loss: 0.5028 - accuracy: 0.8484 - val_loss: 0.6274 - val_accuracy: 0.8201\n",
      "Epoch 63/200\n",
      "42/42 [==============================] - 0s 6ms/step - loss: 0.4949 - accuracy: 0.8527 - val_loss: 0.6323 - val_accuracy: 0.8200\n",
      "Epoch 64/200\n",
      "42/42 [==============================] - 0s 6ms/step - loss: 0.4929 - accuracy: 0.8528 - val_loss: 0.6125 - val_accuracy: 0.8273\n",
      "Epoch 65/200\n",
      "42/42 [==============================] - 0s 6ms/step - loss: 0.4823 - accuracy: 0.8555 - val_loss: 0.6371 - val_accuracy: 0.8192\n",
      "Epoch 66/200\n",
      "42/42 [==============================] - 0s 6ms/step - loss: 0.4842 - accuracy: 0.8561 - val_loss: 0.6295 - val_accuracy: 0.8217\n",
      "Epoch 67/200\n",
      "42/42 [==============================] - 0s 6ms/step - loss: 0.4868 - accuracy: 0.8522 - val_loss: 0.6536 - val_accuracy: 0.8163\n",
      "Epoch 68/200\n",
      "42/42 [==============================] - 0s 6ms/step - loss: 0.4742 - accuracy: 0.8572 - val_loss: 0.6151 - val_accuracy: 0.8251\n",
      "Epoch 69/200\n",
      "42/42 [==============================] - 0s 6ms/step - loss: 0.4699 - accuracy: 0.8590 - val_loss: 0.6270 - val_accuracy: 0.8211\n",
      "Epoch 70/200\n",
      "42/42 [==============================] - 0s 6ms/step - loss: 0.4668 - accuracy: 0.8601 - val_loss: 0.6178 - val_accuracy: 0.8249\n",
      "Epoch 71/200\n",
      "42/42 [==============================] - 0s 6ms/step - loss: 0.4651 - accuracy: 0.8607 - val_loss: 0.6128 - val_accuracy: 0.8250\n",
      "Epoch 72/200\n",
      "42/42 [==============================] - 0s 6ms/step - loss: 0.4692 - accuracy: 0.8593 - val_loss: 0.6314 - val_accuracy: 0.8217\n",
      "Epoch 73/200\n",
      "42/42 [==============================] - 0s 6ms/step - loss: 0.4629 - accuracy: 0.8609 - val_loss: 0.6100 - val_accuracy: 0.8274\n",
      "Epoch 74/200\n",
      "42/42 [==============================] - 0s 6ms/step - loss: 0.4558 - accuracy: 0.8643 - val_loss: 0.6166 - val_accuracy: 0.8252\n",
      "Epoch 75/200\n",
      "42/42 [==============================] - 0s 6ms/step - loss: 0.4557 - accuracy: 0.8622 - val_loss: 0.6165 - val_accuracy: 0.8248\n",
      "Epoch 76/200\n",
      "42/42 [==============================] - 0s 6ms/step - loss: 0.4617 - accuracy: 0.8607 - val_loss: 0.6460 - val_accuracy: 0.8181\n",
      "Epoch 77/200\n",
      "42/42 [==============================] - 0s 6ms/step - loss: 0.4678 - accuracy: 0.8575 - val_loss: 0.6393 - val_accuracy: 0.8201\n",
      "Epoch 78/200\n",
      "42/42 [==============================] - 0s 6ms/step - loss: 0.4534 - accuracy: 0.8629 - val_loss: 0.6134 - val_accuracy: 0.8291\n",
      "Epoch 79/200\n",
      "42/42 [==============================] - 0s 6ms/step - loss: 0.4447 - accuracy: 0.8660 - val_loss: 0.6174 - val_accuracy: 0.8277\n",
      "Epoch 80/200\n",
      "42/42 [==============================] - 0s 6ms/step - loss: 0.4430 - accuracy: 0.8649 - val_loss: 0.6219 - val_accuracy: 0.8254\n",
      "Epoch 81/200\n",
      "42/42 [==============================] - 0s 6ms/step - loss: 0.4367 - accuracy: 0.8675 - val_loss: 0.6014 - val_accuracy: 0.8306\n",
      "Epoch 82/200\n",
      "42/42 [==============================] - 0s 6ms/step - loss: 0.4389 - accuracy: 0.8676 - val_loss: 0.5898 - val_accuracy: 0.8363\n",
      "Epoch 83/200\n",
      "42/42 [==============================] - 0s 6ms/step - loss: 0.4335 - accuracy: 0.8698 - val_loss: 0.6093 - val_accuracy: 0.8292\n",
      "Epoch 84/200\n",
      "42/42 [==============================] - 0s 6ms/step - loss: 0.4232 - accuracy: 0.8724 - val_loss: 0.6110 - val_accuracy: 0.8306\n",
      "Epoch 85/200\n",
      "42/42 [==============================] - 0s 6ms/step - loss: 0.4251 - accuracy: 0.8722 - val_loss: 0.6189 - val_accuracy: 0.8264\n",
      "Epoch 86/200\n",
      "42/42 [==============================] - 0s 6ms/step - loss: 0.4200 - accuracy: 0.8730 - val_loss: 0.6206 - val_accuracy: 0.8275\n",
      "Epoch 87/200\n",
      "42/42 [==============================] - 0s 6ms/step - loss: 0.4193 - accuracy: 0.8730 - val_loss: 0.6118 - val_accuracy: 0.8251\n",
      "Epoch 88/200\n",
      "42/42 [==============================] - 0s 6ms/step - loss: 0.4243 - accuracy: 0.8708 - val_loss: 0.6128 - val_accuracy: 0.8276\n",
      "Epoch 89/200\n",
      "42/42 [==============================] - 0s 6ms/step - loss: 0.4096 - accuracy: 0.8760 - val_loss: 0.5970 - val_accuracy: 0.8357\n",
      "Epoch 90/200\n",
      "42/42 [==============================] - 0s 6ms/step - loss: 0.4118 - accuracy: 0.8755 - val_loss: 0.6126 - val_accuracy: 0.8304\n",
      "Epoch 91/200\n",
      "42/42 [==============================] - 0s 6ms/step - loss: 0.4078 - accuracy: 0.8776 - val_loss: 0.6155 - val_accuracy: 0.8297\n",
      "Epoch 92/200\n",
      "42/42 [==============================] - 0s 6ms/step - loss: 0.4172 - accuracy: 0.8734 - val_loss: 0.6111 - val_accuracy: 0.8274\n",
      "Epoch 93/200\n",
      "42/42 [==============================] - 0s 6ms/step - loss: 0.4047 - accuracy: 0.8780 - val_loss: 0.5938 - val_accuracy: 0.8342\n",
      "Epoch 94/200\n",
      "42/42 [==============================] - 0s 6ms/step - loss: 0.4026 - accuracy: 0.8775 - val_loss: 0.6048 - val_accuracy: 0.8318\n",
      "Epoch 95/200\n",
      "42/42 [==============================] - 0s 6ms/step - loss: 0.4052 - accuracy: 0.8772 - val_loss: 0.6268 - val_accuracy: 0.8267\n",
      "Epoch 96/200\n",
      "42/42 [==============================] - 0s 6ms/step - loss: 0.4020 - accuracy: 0.8787 - val_loss: 0.6123 - val_accuracy: 0.8292\n",
      "Epoch 97/200\n",
      "42/42 [==============================] - 0s 6ms/step - loss: 0.4049 - accuracy: 0.8780 - val_loss: 0.5941 - val_accuracy: 0.8346\n",
      "Epoch 98/200\n",
      "42/42 [==============================] - 0s 6ms/step - loss: 0.3879 - accuracy: 0.8838 - val_loss: 0.5833 - val_accuracy: 0.8378\n",
      "Epoch 99/200\n",
      "42/42 [==============================] - 0s 6ms/step - loss: 0.3924 - accuracy: 0.8806 - val_loss: 0.6041 - val_accuracy: 0.8320\n",
      "Epoch 100/200\n",
      "42/42 [==============================] - 0s 6ms/step - loss: 0.3932 - accuracy: 0.8808 - val_loss: 0.6097 - val_accuracy: 0.8327\n",
      "Epoch 101/200\n",
      "42/42 [==============================] - 0s 6ms/step - loss: 0.3880 - accuracy: 0.8826 - val_loss: 0.5836 - val_accuracy: 0.8411\n",
      "Epoch 102/200\n",
      "42/42 [==============================] - 0s 6ms/step - loss: 0.3774 - accuracy: 0.8862 - val_loss: 0.5955 - val_accuracy: 0.8356\n",
      "Epoch 103/200\n",
      "42/42 [==============================] - 0s 6ms/step - loss: 0.3818 - accuracy: 0.8843 - val_loss: 0.5962 - val_accuracy: 0.8374\n",
      "Epoch 104/200\n",
      "42/42 [==============================] - 0s 6ms/step - loss: 0.3824 - accuracy: 0.8842 - val_loss: 0.5890 - val_accuracy: 0.8389\n",
      "Epoch 105/200\n",
      "42/42 [==============================] - 0s 6ms/step - loss: 0.3770 - accuracy: 0.8856 - val_loss: 0.5893 - val_accuracy: 0.8406\n",
      "Epoch 106/200\n",
      "42/42 [==============================] - 0s 6ms/step - loss: 0.3848 - accuracy: 0.8819 - val_loss: 0.5908 - val_accuracy: 0.8391\n",
      "Epoch 107/200\n",
      "42/42 [==============================] - 0s 6ms/step - loss: 0.3682 - accuracy: 0.8883 - val_loss: 0.5844 - val_accuracy: 0.8383\n",
      "Epoch 108/200\n",
      "42/42 [==============================] - 0s 6ms/step - loss: 0.3716 - accuracy: 0.8879 - val_loss: 0.6056 - val_accuracy: 0.8337\n",
      "Epoch 109/200\n",
      "42/42 [==============================] - 0s 6ms/step - loss: 0.3652 - accuracy: 0.8888 - val_loss: 0.6005 - val_accuracy: 0.8349\n",
      "Epoch 110/200\n",
      "42/42 [==============================] - 0s 6ms/step - loss: 0.3698 - accuracy: 0.8878 - val_loss: 0.5924 - val_accuracy: 0.8365\n",
      "Epoch 111/200\n",
      "42/42 [==============================] - 0s 6ms/step - loss: 0.3599 - accuracy: 0.8915 - val_loss: 0.5844 - val_accuracy: 0.8437\n",
      "Epoch 112/200\n",
      "42/42 [==============================] - 0s 6ms/step - loss: 0.3569 - accuracy: 0.8911 - val_loss: 0.6019 - val_accuracy: 0.8360\n",
      "Epoch 113/200\n",
      "42/42 [==============================] - 0s 6ms/step - loss: 0.3581 - accuracy: 0.8915 - val_loss: 0.5910 - val_accuracy: 0.8398\n",
      "Epoch 114/200\n",
      "42/42 [==============================] - 0s 6ms/step - loss: 0.3595 - accuracy: 0.8917 - val_loss: 0.6199 - val_accuracy: 0.8335\n",
      "Epoch 115/200\n",
      "42/42 [==============================] - 0s 6ms/step - loss: 0.3606 - accuracy: 0.8918 - val_loss: 0.5834 - val_accuracy: 0.8406\n",
      "Epoch 116/200\n",
      "42/42 [==============================] - 0s 6ms/step - loss: 0.3419 - accuracy: 0.8983 - val_loss: 0.5868 - val_accuracy: 0.8412\n",
      "Epoch 117/200\n",
      "42/42 [==============================] - 0s 6ms/step - loss: 0.3575 - accuracy: 0.8919 - val_loss: 0.5880 - val_accuracy: 0.8433\n",
      "Epoch 118/200\n",
      "42/42 [==============================] - 0s 6ms/step - loss: 0.3547 - accuracy: 0.8917 - val_loss: 0.6001 - val_accuracy: 0.8364\n",
      "Epoch 119/200\n",
      "42/42 [==============================] - 0s 6ms/step - loss: 0.3542 - accuracy: 0.8913 - val_loss: 0.6044 - val_accuracy: 0.8361\n",
      "Epoch 120/200\n",
      "42/42 [==============================] - 0s 6ms/step - loss: 0.3548 - accuracy: 0.8928 - val_loss: 0.6111 - val_accuracy: 0.8321\n",
      "Epoch 121/200\n",
      "42/42 [==============================] - 0s 6ms/step - loss: 0.3489 - accuracy: 0.8954 - val_loss: 0.6037 - val_accuracy: 0.8362\n",
      "Epoch 122/200\n",
      "42/42 [==============================] - 0s 6ms/step - loss: 0.3432 - accuracy: 0.8969 - val_loss: 0.5890 - val_accuracy: 0.8416\n",
      "Epoch 123/200\n",
      "42/42 [==============================] - 0s 6ms/step - loss: 0.3509 - accuracy: 0.8931 - val_loss: 0.6003 - val_accuracy: 0.8386\n",
      "Epoch 124/200\n",
      "42/42 [==============================] - 0s 6ms/step - loss: 0.3471 - accuracy: 0.8943 - val_loss: 0.6010 - val_accuracy: 0.8359\n",
      "Epoch 125/200\n",
      "42/42 [==============================] - 0s 6ms/step - loss: 0.3408 - accuracy: 0.8969 - val_loss: 0.6149 - val_accuracy: 0.8337\n",
      "Epoch 126/200\n",
      "42/42 [==============================] - 0s 6ms/step - loss: 0.3492 - accuracy: 0.8933 - val_loss: 0.6077 - val_accuracy: 0.8371\n",
      "Epoch 127/200\n",
      "42/42 [==============================] - 0s 6ms/step - loss: 0.3332 - accuracy: 0.8990 - val_loss: 0.5869 - val_accuracy: 0.8423\n",
      "Epoch 128/200\n",
      "42/42 [==============================] - 0s 6ms/step - loss: 0.3327 - accuracy: 0.8995 - val_loss: 0.5964 - val_accuracy: 0.8408\n",
      "Epoch 129/200\n",
      "42/42 [==============================] - 0s 6ms/step - loss: 0.3265 - accuracy: 0.9015 - val_loss: 0.6009 - val_accuracy: 0.8413\n",
      "Epoch 130/200\n",
      "42/42 [==============================] - 0s 6ms/step - loss: 0.3330 - accuracy: 0.8991 - val_loss: 0.5932 - val_accuracy: 0.8436\n",
      "Epoch 131/200\n",
      "42/42 [==============================] - 0s 6ms/step - loss: 0.3247 - accuracy: 0.9019 - val_loss: 0.5983 - val_accuracy: 0.8412\n",
      "Epoch 132/200\n",
      "42/42 [==============================] - 0s 6ms/step - loss: 0.3336 - accuracy: 0.8979 - val_loss: 0.5988 - val_accuracy: 0.8409\n",
      "Epoch 133/200\n",
      "42/42 [==============================] - 0s 6ms/step - loss: 0.3230 - accuracy: 0.9018 - val_loss: 0.6023 - val_accuracy: 0.8419\n",
      "Epoch 134/200\n",
      "42/42 [==============================] - 0s 6ms/step - loss: 0.3270 - accuracy: 0.9007 - val_loss: 0.5964 - val_accuracy: 0.8417\n",
      "Epoch 135/200\n",
      "42/42 [==============================] - 0s 6ms/step - loss: 0.3217 - accuracy: 0.9006 - val_loss: 0.6113 - val_accuracy: 0.8368\n",
      "Epoch 136/200\n",
      "42/42 [==============================] - 0s 6ms/step - loss: 0.3232 - accuracy: 0.9030 - val_loss: 0.6128 - val_accuracy: 0.8377\n",
      "Epoch 137/200\n",
      "42/42 [==============================] - 0s 6ms/step - loss: 0.3253 - accuracy: 0.9008 - val_loss: 0.6050 - val_accuracy: 0.8382\n",
      "Epoch 138/200\n",
      "42/42 [==============================] - 0s 6ms/step - loss: 0.3236 - accuracy: 0.9014 - val_loss: 0.5926 - val_accuracy: 0.8422\n",
      "Epoch 139/200\n",
      "42/42 [==============================] - 0s 6ms/step - loss: 0.3211 - accuracy: 0.9022 - val_loss: 0.6190 - val_accuracy: 0.8359\n",
      "Epoch 140/200\n",
      "42/42 [==============================] - 0s 6ms/step - loss: 0.3209 - accuracy: 0.9038 - val_loss: 0.5942 - val_accuracy: 0.8443\n",
      "Epoch 141/200\n",
      "42/42 [==============================] - 0s 6ms/step - loss: 0.3153 - accuracy: 0.9039 - val_loss: 0.6164 - val_accuracy: 0.8369\n",
      "Epoch 142/200\n",
      "42/42 [==============================] - 0s 6ms/step - loss: 0.3168 - accuracy: 0.9034 - val_loss: 0.5941 - val_accuracy: 0.8441\n",
      "Epoch 143/200\n",
      "42/42 [==============================] - 0s 6ms/step - loss: 0.3157 - accuracy: 0.9048 - val_loss: 0.6077 - val_accuracy: 0.8382\n",
      "Epoch 144/200\n",
      "42/42 [==============================] - 0s 6ms/step - loss: 0.3033 - accuracy: 0.9075 - val_loss: 0.6063 - val_accuracy: 0.8419\n",
      "Epoch 145/200\n",
      "42/42 [==============================] - 0s 6ms/step - loss: 0.3167 - accuracy: 0.9028 - val_loss: 0.6149 - val_accuracy: 0.8386\n",
      "Epoch 146/200\n",
      "42/42 [==============================] - 0s 6ms/step - loss: 0.3205 - accuracy: 0.9011 - val_loss: 0.6021 - val_accuracy: 0.8406\n",
      "Epoch 147/200\n",
      "42/42 [==============================] - 0s 6ms/step - loss: 0.3106 - accuracy: 0.9055 - val_loss: 0.5945 - val_accuracy: 0.8442\n",
      "Epoch 148/200\n",
      "42/42 [==============================] - 0s 6ms/step - loss: 0.2986 - accuracy: 0.9089 - val_loss: 0.5995 - val_accuracy: 0.8430\n",
      "Epoch 149/200\n",
      "42/42 [==============================] - 0s 6ms/step - loss: 0.2975 - accuracy: 0.9109 - val_loss: 0.5993 - val_accuracy: 0.8435\n",
      "Epoch 150/200\n",
      "42/42 [==============================] - 0s 6ms/step - loss: 0.2933 - accuracy: 0.9117 - val_loss: 0.6125 - val_accuracy: 0.8402\n",
      "Epoch 151/200\n",
      "42/42 [==============================] - 0s 6ms/step - loss: 0.2993 - accuracy: 0.9089 - val_loss: 0.6638 - val_accuracy: 0.8261\n",
      "Epoch 152/200\n",
      "42/42 [==============================] - 0s 6ms/step - loss: 0.3038 - accuracy: 0.9075 - val_loss: 0.6297 - val_accuracy: 0.8354\n",
      "Epoch 153/200\n",
      "42/42 [==============================] - 0s 6ms/step - loss: 0.3002 - accuracy: 0.9083 - val_loss: 0.6245 - val_accuracy: 0.8362\n",
      "Epoch 154/200\n",
      "42/42 [==============================] - 0s 6ms/step - loss: 0.2960 - accuracy: 0.9092 - val_loss: 0.6166 - val_accuracy: 0.8426\n",
      "Epoch 155/200\n",
      "42/42 [==============================] - 0s 6ms/step - loss: 0.3019 - accuracy: 0.9056 - val_loss: 0.5980 - val_accuracy: 0.8449\n",
      "Epoch 156/200\n",
      "42/42 [==============================] - 0s 6ms/step - loss: 0.2892 - accuracy: 0.9114 - val_loss: 0.6092 - val_accuracy: 0.8427\n",
      "Epoch 157/200\n",
      "42/42 [==============================] - 0s 6ms/step - loss: 0.2932 - accuracy: 0.9114 - val_loss: 0.6058 - val_accuracy: 0.8404\n",
      "Epoch 158/200\n",
      "42/42 [==============================] - 0s 6ms/step - loss: 0.2843 - accuracy: 0.9140 - val_loss: 0.5959 - val_accuracy: 0.8457\n",
      "Epoch 159/200\n",
      "42/42 [==============================] - 0s 6ms/step - loss: 0.2794 - accuracy: 0.9158 - val_loss: 0.6126 - val_accuracy: 0.8407\n",
      "Epoch 160/200\n",
      "42/42 [==============================] - 0s 6ms/step - loss: 0.2964 - accuracy: 0.9088 - val_loss: 0.6020 - val_accuracy: 0.8444\n",
      "Epoch 161/200\n",
      "42/42 [==============================] - 0s 6ms/step - loss: 0.2855 - accuracy: 0.9138 - val_loss: 0.6118 - val_accuracy: 0.8444\n",
      "Epoch 162/200\n",
      "42/42 [==============================] - 0s 6ms/step - loss: 0.2810 - accuracy: 0.9132 - val_loss: 0.6101 - val_accuracy: 0.8447\n",
      "Epoch 163/200\n",
      "42/42 [==============================] - 0s 6ms/step - loss: 0.2809 - accuracy: 0.9145 - val_loss: 0.6284 - val_accuracy: 0.8381\n",
      "Epoch 164/200\n",
      "42/42 [==============================] - 0s 6ms/step - loss: 0.2734 - accuracy: 0.9169 - val_loss: 0.6093 - val_accuracy: 0.8443\n",
      "Epoch 165/200\n",
      "42/42 [==============================] - 0s 6ms/step - loss: 0.2767 - accuracy: 0.9165 - val_loss: 0.6072 - val_accuracy: 0.8443\n",
      "Epoch 166/200\n",
      "42/42 [==============================] - 0s 6ms/step - loss: 0.2779 - accuracy: 0.9153 - val_loss: 0.6176 - val_accuracy: 0.8396\n",
      "Epoch 167/200\n",
      "42/42 [==============================] - 0s 6ms/step - loss: 0.2722 - accuracy: 0.9169 - val_loss: 0.5946 - val_accuracy: 0.8492\n",
      "Epoch 168/200\n",
      "42/42 [==============================] - 0s 6ms/step - loss: 0.2667 - accuracy: 0.9200 - val_loss: 0.6329 - val_accuracy: 0.8383\n",
      "Epoch 169/200\n",
      "42/42 [==============================] - 0s 6ms/step - loss: 0.2753 - accuracy: 0.9163 - val_loss: 0.6330 - val_accuracy: 0.8385\n",
      "Epoch 170/200\n",
      "42/42 [==============================] - 0s 6ms/step - loss: 0.2728 - accuracy: 0.9173 - val_loss: 0.6140 - val_accuracy: 0.8459\n",
      "Epoch 171/200\n",
      "42/42 [==============================] - 0s 6ms/step - loss: 0.2666 - accuracy: 0.9192 - val_loss: 0.6099 - val_accuracy: 0.8455\n",
      "Epoch 172/200\n",
      "42/42 [==============================] - 0s 6ms/step - loss: 0.2647 - accuracy: 0.9192 - val_loss: 0.6157 - val_accuracy: 0.8447\n",
      "Epoch 173/200\n",
      "42/42 [==============================] - 0s 6ms/step - loss: 0.2669 - accuracy: 0.9196 - val_loss: 0.6318 - val_accuracy: 0.8401\n",
      "Epoch 174/200\n",
      "42/42 [==============================] - 0s 6ms/step - loss: 0.2626 - accuracy: 0.9210 - val_loss: 0.6273 - val_accuracy: 0.8385\n",
      "Epoch 175/200\n",
      "42/42 [==============================] - 0s 6ms/step - loss: 0.2757 - accuracy: 0.9159 - val_loss: 0.6202 - val_accuracy: 0.8441\n",
      "Epoch 176/200\n",
      "42/42 [==============================] - 0s 6ms/step - loss: 0.2659 - accuracy: 0.9193 - val_loss: 0.6190 - val_accuracy: 0.8466\n",
      "Epoch 177/200\n",
      "42/42 [==============================] - 0s 6ms/step - loss: 0.2651 - accuracy: 0.9195 - val_loss: 0.6389 - val_accuracy: 0.8367\n",
      "Epoch 178/200\n",
      "42/42 [==============================] - 0s 6ms/step - loss: 0.2618 - accuracy: 0.9203 - val_loss: 0.6103 - val_accuracy: 0.8463\n",
      "Epoch 179/200\n",
      "42/42 [==============================] - 0s 6ms/step - loss: 0.2646 - accuracy: 0.9196 - val_loss: 0.6211 - val_accuracy: 0.8433\n",
      "Epoch 180/200\n",
      "42/42 [==============================] - 0s 6ms/step - loss: 0.2600 - accuracy: 0.9214 - val_loss: 0.6315 - val_accuracy: 0.8426\n",
      "Epoch 181/200\n",
      "42/42 [==============================] - 0s 6ms/step - loss: 0.2570 - accuracy: 0.9206 - val_loss: 0.6292 - val_accuracy: 0.8413\n",
      "Epoch 182/200\n",
      "42/42 [==============================] - 0s 6ms/step - loss: 0.2606 - accuracy: 0.9215 - val_loss: 0.6241 - val_accuracy: 0.8433\n",
      "Epoch 183/200\n",
      "42/42 [==============================] - 0s 6ms/step - loss: 0.2519 - accuracy: 0.9250 - val_loss: 0.6212 - val_accuracy: 0.8446\n",
      "Epoch 184/200\n",
      "42/42 [==============================] - 0s 6ms/step - loss: 0.2520 - accuracy: 0.9235 - val_loss: 0.6483 - val_accuracy: 0.8377\n",
      "Epoch 185/200\n",
      "42/42 [==============================] - 0s 6ms/step - loss: 0.2493 - accuracy: 0.9251 - val_loss: 0.6258 - val_accuracy: 0.8435\n",
      "Epoch 186/200\n",
      "42/42 [==============================] - 0s 6ms/step - loss: 0.2491 - accuracy: 0.9250 - val_loss: 0.6286 - val_accuracy: 0.8421\n",
      "Epoch 187/200\n",
      "42/42 [==============================] - 0s 6ms/step - loss: 0.2696 - accuracy: 0.9167 - val_loss: 0.6181 - val_accuracy: 0.8451\n",
      "Epoch 188/200\n",
      "42/42 [==============================] - 0s 6ms/step - loss: 0.2612 - accuracy: 0.9199 - val_loss: 0.6238 - val_accuracy: 0.8436\n",
      "Epoch 189/200\n",
      "42/42 [==============================] - 0s 6ms/step - loss: 0.2501 - accuracy: 0.9239 - val_loss: 0.6320 - val_accuracy: 0.8435\n",
      "Epoch 190/200\n",
      "42/42 [==============================] - 0s 6ms/step - loss: 0.2448 - accuracy: 0.9255 - val_loss: 0.6444 - val_accuracy: 0.8426\n",
      "Epoch 191/200\n",
      "42/42 [==============================] - 0s 6ms/step - loss: 0.2529 - accuracy: 0.9231 - val_loss: 0.6389 - val_accuracy: 0.8419\n",
      "Epoch 192/200\n",
      "42/42 [==============================] - 0s 6ms/step - loss: 0.2527 - accuracy: 0.9228 - val_loss: 0.6384 - val_accuracy: 0.8424\n",
      "Epoch 193/200\n",
      "42/42 [==============================] - 0s 6ms/step - loss: 0.2424 - accuracy: 0.9265 - val_loss: 0.6332 - val_accuracy: 0.8446\n",
      "Epoch 194/200\n",
      "42/42 [==============================] - 0s 6ms/step - loss: 0.2357 - accuracy: 0.9299 - val_loss: 0.6444 - val_accuracy: 0.8414\n",
      "Epoch 195/200\n",
      "42/42 [==============================] - 0s 6ms/step - loss: 0.2454 - accuracy: 0.9256 - val_loss: 0.6431 - val_accuracy: 0.8435\n",
      "Epoch 196/200\n",
      "42/42 [==============================] - 0s 6ms/step - loss: 0.2402 - accuracy: 0.9280 - val_loss: 0.6330 - val_accuracy: 0.8453\n",
      "Epoch 197/200\n",
      "42/42 [==============================] - 0s 6ms/step - loss: 0.2369 - accuracy: 0.9276 - val_loss: 0.6235 - val_accuracy: 0.8476\n",
      "Epoch 198/200\n",
      "42/42 [==============================] - 0s 6ms/step - loss: 0.2467 - accuracy: 0.9238 - val_loss: 0.6441 - val_accuracy: 0.8411\n",
      "Epoch 199/200\n",
      "42/42 [==============================] - 0s 6ms/step - loss: 0.2370 - accuracy: 0.9281 - val_loss: 0.6356 - val_accuracy: 0.8446\n",
      "Epoch 200/200\n",
      "42/42 [==============================] - 0s 6ms/step - loss: 0.2335 - accuracy: 0.9294 - val_loss: 0.6252 - val_accuracy: 0.8463\n"
     ]
    },
    {
     "data": {
      "text/plain": [
       "<tensorflow.python.keras.callbacks.History at 0x7f4f99842fd0>"
      ]
     },
     "execution_count": 57,
     "metadata": {
      "tags": []
     },
     "output_type": "execute_result"
    }
   ],
   "source": [
    "\n",
    "model.fit(X_train, y_train, validation_data=(X_test, y_test), epochs=200, batch_size = 1000)"
   ]
  },
  {
   "cell_type": "code",
   "execution_count": 58,
   "metadata": {
    "colab": {
     "base_uri": "https://localhost:8080/",
     "height": 34
    },
    "id": "r_GBv2ws_04n",
    "outputId": "2e8ff57f-fddb-4f02-e2d7-09a5b405e3b1"
   },
   "outputs": [
    {
     "name": "stdout",
     "output_type": "stream",
     "text": [
      "563/563 [==============================] - 1s 2ms/step - loss: 0.6252 - accuracy: 0.8463\n"
     ]
    }
   ],
   "source": [
    "results = model.evaluate(X_test, y_test)"
   ]
  }
 ],
 "metadata": {
  "accelerator": "GPU",
  "colab": {
   "collapsed_sections": [],
   "name": "DLNN_SVHN_AIML_Project.ipynb",
   "provenance": [],
   "toc_visible": true
  },
  "kernelspec": {
   "display_name": "Python 3",
   "language": "python",
   "name": "python3"
  },
  "language_info": {
   "codemirror_mode": {
    "name": "ipython",
    "version": 3
   },
   "file_extension": ".py",
   "mimetype": "text/x-python",
   "name": "python",
   "nbconvert_exporter": "python",
   "pygments_lexer": "ipython3",
   "version": "3.8.8"
  }
 },
 "nbformat": 4,
 "nbformat_minor": 1
}
